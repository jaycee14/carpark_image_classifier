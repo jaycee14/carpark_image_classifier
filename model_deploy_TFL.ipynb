{
 "cells": [
  {
   "cell_type": "markdown",
   "metadata": {},
   "source": [
    "## TFL Images\n",
    "* 15/3/2020\n",
    "* Notebook to download, classify and produce chart data for TFL traffic cams"
   ]
  },
  {
   "cell_type": "code",
   "execution_count": 2,
   "metadata": {},
   "outputs": [],
   "source": [
    "from pathlib import Path\n",
    "import requests\n",
    "from PIL import Image\n",
    "from io import BytesIO\n",
    "from datetime import datetime, timedelta\n",
    "from fastai.vision import load_learner, open_image\n",
    "import json"
   ]
  },
  {
   "cell_type": "markdown",
   "metadata": {},
   "source": [
    "### Setup\n",
    "Create file data and file paths"
   ]
  },
  {
   "cell_type": "code",
   "execution_count": 3,
   "metadata": {},
   "outputs": [
    {
     "data": {
      "text/plain": [
       "PosixPath('/media/jjc/data/dataStore/fastai_projects/carparks')"
      ]
     },
     "execution_count": 3,
     "metadata": {},
     "output_type": "execute_result"
    }
   ],
   "source": [
    "path = Path('/media/jjc/data/dataStore/fastai_projects/carparks/')\n",
    "path"
   ]
  },
  {
   "cell_type": "code",
   "execution_count": 4,
   "metadata": {},
   "outputs": [],
   "source": [
    "run_date = datetime(2020,3,9)\n"
   ]
  },
  {
   "cell_type": "code",
   "execution_count": 6,
   "metadata": {},
   "outputs": [],
   "source": [
    "# create a datetime for every 5 minutes in the day, corresponding to the TFL update frequency\n",
    "time_list = [run_date + timedelta(minutes= 5*x) for x in range(288)]"
   ]
  },
  {
   "cell_type": "code",
   "execution_count": 7,
   "metadata": {},
   "outputs": [
    {
     "data": {
      "text/plain": [
       "[datetime.datetime(2020, 3, 9, 23, 45),\n",
       " datetime.datetime(2020, 3, 9, 23, 50),\n",
       " datetime.datetime(2020, 3, 9, 23, 55)]"
      ]
     },
     "execution_count": 7,
     "metadata": {},
     "output_type": "execute_result"
    }
   ],
   "source": [
    "time_list[-3:]"
   ]
  },
  {
   "cell_type": "code",
   "execution_count": 8,
   "metadata": {},
   "outputs": [],
   "source": [
    "# create directories if not present\n",
    "tfl_images = path / 'tfl_images'\n",
    "date_str = run_date.strftime('%Y-%m-%d')\n",
    "date_images = tfl_images / date_str"
   ]
  },
  {
   "cell_type": "code",
   "execution_count": 9,
   "metadata": {},
   "outputs": [
    {
     "data": {
      "text/plain": [
       "PosixPath('/media/jjc/data/dataStore/fastai_projects/carparks/tfl_images/2020-03-09')"
      ]
     },
     "execution_count": 9,
     "metadata": {},
     "output_type": "execute_result"
    }
   ],
   "source": [
    "date_images.mkdir(exist_ok=True)\n",
    "date_images"
   ]
  },
  {
   "cell_type": "code",
   "execution_count": 14,
   "metadata": {},
   "outputs": [],
   "source": [
    "url_template = 'http://archive.tfljamcams.net/archive/Gt_Eastern_St_Curtain_Rd/{date}/{file}'"
   ]
  },
  {
   "cell_type": "code",
   "execution_count": 15,
   "metadata": {},
   "outputs": [
    {
     "name": "stdout",
     "output_type": "stream",
     "text": [
      "error  2020-03-09@14_40GMT.jpg\n",
      "error  2020-03-09@21_10GMT.jpg\n"
     ]
    }
   ],
   "source": [
    "# list to record results in\n",
    "success_file=[]\n",
    "\n",
    "# loop through the time slots for a given day\n",
    "for t in time_list:\n",
    "    file_str = t.strftime('%Y-%m-%d@%H_%MGMT.jpg')\n",
    "    \n",
    "    file_path = date_images / file_str\n",
    "    if file_path.exists(): # already downloaded\n",
    "        success_file.append({'file_name':file_str, 'file_time':t})\n",
    "    else:\n",
    "        try:\n",
    "            # download and save images, handling any data corruption errors\n",
    "            url = url_template.format(date=date_str, file=file_str)\n",
    "            r = requests.get(url)\n",
    "            i = Image.open(BytesIO(r.content))\n",
    "            i.save(file_path)\n",
    "            success_file.append({'file_name':file_str, 'file_time':t})\n",
    "        except OSError:\n",
    "            print('error ',file_str)"
   ]
  },
  {
   "cell_type": "markdown",
   "metadata": {},
   "source": [
    "### Load model and perform classification"
   ]
  },
  {
   "cell_type": "code",
   "execution_count": 16,
   "metadata": {},
   "outputs": [],
   "source": [
    "model = load_learner(path).to_fp16() # load model that was previously exported"
   ]
  },
  {
   "cell_type": "code",
   "execution_count": 17,
   "metadata": {},
   "outputs": [],
   "source": [
    "out_json=[]\n",
    "\n",
    "# loop through the images and have the model classify them\n",
    "for file in success_file:\n",
    "    image = open_image(date_images / file['file_name']).apply_tfms(None, size=224)\n",
    "\n",
    "    category, class_idx ,prob = model.predict(image)\n",
    "    \n",
    "    out_json.append({'time':file['file_time'],\n",
    "                     'category':category.obj,\n",
    "                     'category_class':class_idx.item(),\n",
    "                     'prob':prob[class_idx].item()})"
   ]
  },
  {
   "cell_type": "code",
   "execution_count": 18,
   "metadata": {},
   "outputs": [
    {
     "data": {
      "text/plain": [
       "[{'time': datetime.datetime(2020, 3, 9, 0, 0),\n",
       "  'category': 'full',\n",
       "  'category_class': 1,\n",
       "  'prob': 0.9771101474761963},\n",
       " {'time': datetime.datetime(2020, 3, 9, 0, 5),\n",
       "  'category': 'full',\n",
       "  'category_class': 1,\n",
       "  'prob': 0.9771101474761963},\n",
       " {'time': datetime.datetime(2020, 3, 9, 0, 10),\n",
       "  'category': 'full',\n",
       "  'category_class': 1,\n",
       "  'prob': 0.9829874038696289}]"
      ]
     },
     "execution_count": 18,
     "metadata": {},
     "output_type": "execute_result"
    }
   ],
   "source": [
    "# see results\n",
    "out_json[:3]"
   ]
  },
  {
   "cell_type": "code",
   "execution_count": 19,
   "metadata": {},
   "outputs": [],
   "source": [
    "def line_chart_js(data:dict,label:str):\n",
    "    \"\"\"Function to turn a given dictionary into the json format used by chart.js\"\"\"\n",
    "    \n",
    "    # time boundaries for the axis\n",
    "    time_min = min([d['time'] for d in data])\n",
    "    time_max = max([d['time'] for d in data])\n",
    "    \n",
    "    # prepare base json data\n",
    "    json_returned = {\n",
    "    'data':{'labels':['class','prob'],'datasets':[]},\n",
    "    'options': {'title': {'display': True, 'text': label},\n",
    "                'tooltips': {'mode': 'index','intersect': False},\n",
    "                'responsive': True,\n",
    "                'scales': {'xAxes': [{'type': 'time',\n",
    "                                      'time':{\n",
    "                                        'unit': 'minute',\n",
    "                                        'displayFormats': { 'month': 'mm' },\n",
    "                                        'max': time_max.strftime(\"%Y-%m-%d %H:%M\"),\n",
    "                                        'min': time_min.strftime(\"%Y-%m-%d %H:%M\"),\n",
    "                                        },\n",
    "                                      'scaleLabel': {'display': True,'labelString': 'Time'}}],\n",
    "                           'yAxes': [{'scaleLabel': {'display': True,'labelString': 'Value'}}]}\n",
    "               }\n",
    "    }\n",
    "\n",
    "    # populate the data\n",
    "    line_class_data = [{'x':d['time'].strftime(\"%Y-%m-%d %H:%M\") ,'y':d['category_class']} for d in data]\n",
    "    line_prob_data = [{'x':d['time'].strftime(\"%Y-%m-%d %H:%M\") ,'y':d['prob']} for d in data]\n",
    "\n",
    "    # add the data to the json object\n",
    "    json_returned['data']['datasets'].append({'label':'class',\n",
    "                                              'borderColor': 'blue',\n",
    "                                              'fill':True,\n",
    "                                              'type':'line',\n",
    "                                              'data':line_class_data})\n",
    "    json_returned['data']['datasets'].append({'label':'prob',\n",
    "                                              'borderColor': 'red',\n",
    "                                              'fill':True,\n",
    "                                              'type':'line',\n",
    "                                              'data':line_prob_data})\n",
    "\n",
    "    return json_returned\n"
   ]
  },
  {
   "cell_type": "code",
   "execution_count": 20,
   "metadata": {},
   "outputs": [],
   "source": [
    "json_data = line_chart_js(out_json,date_str)"
   ]
  },
  {
   "cell_type": "code",
   "execution_count": 22,
   "metadata": {},
   "outputs": [],
   "source": [
    "# save the data down\n",
    "with open(path / f'traffic_{date_str}.json','w') as fp:\n",
    "    json.dump(json_data,fp)"
   ]
  },
  {
   "cell_type": "code",
   "execution_count": null,
   "metadata": {},
   "outputs": [],
   "source": []
  }
 ],
 "metadata": {
  "kernelspec": {
   "display_name": "Python 3",
   "language": "python",
   "name": "python3"
  },
  "language_info": {
   "codemirror_mode": {
    "name": "ipython",
    "version": 3
   },
   "file_extension": ".py",
   "mimetype": "text/x-python",
   "name": "python",
   "nbconvert_exporter": "python",
   "pygments_lexer": "ipython3",
   "version": "3.7.4"
  }
 },
 "nbformat": 4,
 "nbformat_minor": 2
}
