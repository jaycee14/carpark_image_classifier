{
 "cells": [
  {
   "cell_type": "code",
   "execution_count": 1,
   "metadata": {},
   "outputs": [],
   "source": [
    "# designed for use with Voila - hence minimal markdown comments\n",
    "\n",
    "from ipywidgets import FileUpload, Layout, Output\n",
    "from IPython.display import clear_output, display, display_markdown\n",
    "import io\n",
    "from pathlib import Path\n",
    "from fastai.vision import load_learner, open_image"
   ]
  },
  {
   "cell_type": "code",
   "execution_count": 2,
   "metadata": {},
   "outputs": [],
   "source": [
    "# using ipywidgets 7.5.1 which affects the data returned by FileUpload\n",
    "# from ipywidgets import version_info # (7, 5, 1, 'final', 0)\n"
   ]
  },
  {
   "cell_type": "code",
   "execution_count": 3,
   "metadata": {},
   "outputs": [],
   "source": [
    "# load the exported production model\n",
    "model_path = Path('/media/jjc/data/dataStore/fastai_projects/carparks/')\n",
    "model = load_learner(model_path).to_fp16()\n"
   ]
  },
  {
   "cell_type": "code",
   "execution_count": 4,
   "metadata": {},
   "outputs": [],
   "source": [
    "def predict_on_image(img):\n",
    "    \"\"\"Function to format the model response\"\"\"\n",
    "    \n",
    "    category, _ , _ = model.predict(img)\n",
    "    \n",
    "    return category"
   ]
  },
  {
   "cell_type": "code",
   "execution_count": 5,
   "metadata": {},
   "outputs": [],
   "source": [
    "def handle_upload(change):\n",
    "    \"\"\"Callback for the file uploader\"\"\"\n",
    "    \n",
    "    # collect the file data\n",
    "    [data] = change['new'].values()\n",
    "    stream = io.BytesIO(data['content'])\n",
    "    image = open_image(stream).apply_tfms(None, size=224)\n",
    "    \n",
    "    # get the prediction\n",
    "    p = predict_on_image(image)\n",
    "    \n",
    "    # update the output widget\n",
    "    with output:\n",
    "        clear_output()\n",
    "        display_markdown(f\"# {str(p)}\", raw=True)\n",
    "        display(image)"
   ]
  },
  {
   "cell_type": "code",
   "execution_count": 6,
   "metadata": {},
   "outputs": [],
   "source": [
    "# set to wide layout\n",
    "layout = Layout(width=\"100%\", min_height=\"180px\", align=\"center\")"
   ]
  },
  {
   "cell_type": "code",
   "execution_count": 7,
   "metadata": {},
   "outputs": [],
   "source": [
    "# create the uploader - limted to single images\n",
    "uploader = FileUpload(multiple=False, accept=\"image/*\", layout=layout)"
   ]
  },
  {
   "cell_type": "code",
   "execution_count": 8,
   "metadata": {},
   "outputs": [],
   "source": [
    "uploader.observe(handle_upload,'value')"
   ]
  },
  {
   "cell_type": "code",
   "execution_count": 9,
   "metadata": {},
   "outputs": [],
   "source": [
    "output = Output()"
   ]
  },
  {
   "cell_type": "markdown",
   "metadata": {},
   "source": [
    "# Carpark Status Detector"
   ]
  },
  {
   "cell_type": "code",
   "execution_count": 10,
   "metadata": {},
   "outputs": [
    {
     "data": {
      "application/vnd.jupyter.widget-view+json": {
       "model_id": "c8be3bb2b33646f69146a81ab08e90a0",
       "version_major": 2,
       "version_minor": 0
      },
      "text/plain": [
       "FileUpload(value={}, accept='image/*', description='Upload', layout=Layout(min_height='180px', width='100%'))"
      ]
     },
     "metadata": {},
     "output_type": "display_data"
    },
    {
     "data": {
      "application/vnd.jupyter.widget-view+json": {
       "model_id": "e88758190bcd4fc3a04d70f3bc9cf5b6",
       "version_major": 2,
       "version_minor": 0
      },
      "text/plain": [
       "Output()"
      ]
     },
     "metadata": {},
     "output_type": "display_data"
    }
   ],
   "source": [
    "display(uploader)\n",
    "display(output)"
   ]
  },
  {
   "cell_type": "code",
   "execution_count": null,
   "metadata": {},
   "outputs": [],
   "source": []
  }
 ],
 "metadata": {
  "kernelspec": {
   "display_name": "Python 3",
   "language": "python",
   "name": "python3"
  },
  "language_info": {
   "codemirror_mode": {
    "name": "ipython",
    "version": 3
   },
   "file_extension": ".py",
   "mimetype": "text/x-python",
   "name": "python",
   "nbconvert_exporter": "python",
   "pygments_lexer": "ipython3",
   "version": "3.7.4"
  }
 },
 "nbformat": 4,
 "nbformat_minor": 2
}
